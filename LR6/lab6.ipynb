{
 "cells": [
  {
   "cell_type": "markdown",
   "metadata": {},
   "source": [
    "## Задание:\n",
    "1. Выберите набор данных (датасет) для решения задачи классификации или регресии.\n",
    "2. В случае необходимости проведите удаление или заполнение пропусков и кодирование категориальных признаков.\n",
    "3. С использованием метода train_test_split разделите выборку на обучающую и тестовую.\n",
    "4. Обучите две ансамблевые модели. Оцените качество моделей с помощью одной из подходящих для задачи метрик. Сравните качество полученных моделей.\n",
    "5. Произведите для каждой модели подбор значений одного гиперпараметра. В зависимости от используемой библиотеки можно применять функцию GridSearchCV, использовать перебор параметров в цикле, или использовать другие методы.\n",
    "6. Повторите пункт 4 для найденных оптимальных значений гиперпараметров. Сравните качество полученных моделей с качеством моделей, полученных в пункте 4"
   ]
  },
  {
   "cell_type": "code",
   "execution_count": 1,
   "metadata": {},
   "outputs": [
    {
     "name": "stderr",
     "output_type": "stream",
     "text": [
      "/home/denis/ml/env/lib/python3.6/site-packages/sklearn/externals/six.py:31: FutureWarning: The module is deprecated in version 0.21 and will be removed in version 0.23 since we've dropped support for Python 2.7. Please rely on the official version of six (https://pypi.org/project/six/).\n",
      "  \"(https://pypi.org/project/six/).\", FutureWarning)\n"
     ]
    },
    {
     "name": "stdout",
     "output_type": "stream",
     "text": [
      "Requirement already satisfied: heamy in ./env/lib/python3.6/site-packages (0.0.7)\n",
      "Requirement already satisfied: numpy>=1.7.0 in ./env/lib/python3.6/site-packages (from heamy) (1.18.4)\n",
      "Requirement already satisfied: scipy>=0.16.0 in ./env/lib/python3.6/site-packages (from heamy) (1.4.1)\n",
      "Requirement already satisfied: six>=1.10.0 in ./env/lib/python3.6/site-packages (from heamy) (1.14.0)\n",
      "Requirement already satisfied: scikit-learn>=0.17.0 in ./env/lib/python3.6/site-packages (from heamy) (0.22.2)\n",
      "Requirement already satisfied: pandas>=0.17.0 in ./env/lib/python3.6/site-packages (from heamy) (1.0.3)\n",
      "Requirement already satisfied: joblib>=0.11 in ./env/lib/python3.6/site-packages (from scikit-learn>=0.17.0->heamy) (0.15.1)\n",
      "Requirement already satisfied: python-dateutil>=2.6.1 in ./env/lib/python3.6/site-packages (from pandas>=0.17.0->heamy) (2.8.1)\n",
      "Requirement already satisfied: pytz>=2017.2 in ./env/lib/python3.6/site-packages (from pandas>=0.17.0->heamy) (2020.1)\n"
     ]
    }
   ],
   "source": [
    "import numpy as np\n",
    "import pandas as pd\n",
    "from typing import Dict, Tuple\n",
    "from scipy import stats\n",
    "from IPython.display import Image\n",
    "from sklearn.externals.six import StringIO \n",
    "from IPython.display import Image\n",
    "import graphviz \n",
    "import pydotplus\n",
    "from sklearn.datasets import load_iris, load_boston\n",
    "from sklearn.linear_model import LinearRegression\n",
    "from sklearn.model_selection import cross_val_score\n",
    "from sklearn.model_selection import train_test_split\n",
    "from sklearn.neighbors import KNeighborsRegressor, KNeighborsClassifier\n",
    "from sklearn.model_selection import GridSearchCV, RandomizedSearchCV\n",
    "from sklearn.metrics import accuracy_score, balanced_accuracy_score\n",
    "from sklearn.metrics import precision_score, recall_score, f1_score, classification_report\n",
    "from sklearn.metrics import confusion_matrix\n",
    "from sklearn.tree import DecisionTreeClassifier, DecisionTreeRegressor, export_graphviz\n",
    "from sklearn.ensemble import RandomForestClassifier, RandomForestRegressor\n",
    "from sklearn.ensemble import ExtraTreesClassifier, ExtraTreesRegressor\n",
    "from sklearn.ensemble import GradientBoostingClassifier, GradientBoostingRegressor\n",
    "from sklearn.ensemble import BaggingClassifier\n",
    "from sklearn.ensemble import AdaBoostClassifier\n",
    "from sklearn.metrics import mean_absolute_error, mean_squared_error, mean_squared_log_error, median_absolute_error, r2_score \n",
    "from sklearn.metrics import roc_curve, roc_auc_score\n",
    "import seaborn as sns\n",
    "!pip install heamy\n",
    "from heamy.estimator import Regressor, Classifier\n",
    "from heamy.pipeline import ModelsPipeline\n",
    "from heamy.dataset import Dataset\n",
    "import matplotlib.pyplot as plt\n",
    "%matplotlib inline \n",
    "sns.set(style=\"ticks\")\n",
    "\n"
   ]
  },
  {
   "cell_type": "markdown",
   "metadata": {},
   "source": [
    "### 1. Выбор набора данных для решения задачи регресии."
   ]
  },
  {
   "cell_type": "code",
   "execution_count": 2,
   "metadata": {},
   "outputs": [
    {
     "data": {
      "text/html": [
       "<div>\n",
       "<style scoped>\n",
       "    .dataframe tbody tr th:only-of-type {\n",
       "        vertical-align: middle;\n",
       "    }\n",
       "\n",
       "    .dataframe tbody tr th {\n",
       "        vertical-align: top;\n",
       "    }\n",
       "\n",
       "    .dataframe thead th {\n",
       "        text-align: right;\n",
       "    }\n",
       "</style>\n",
       "<table border=\"1\" class=\"dataframe\">\n",
       "  <thead>\n",
       "    <tr style=\"text-align: right;\">\n",
       "      <th></th>\n",
       "      <th>fixed acidity</th>\n",
       "      <th>volatile acidity</th>\n",
       "      <th>citric acid</th>\n",
       "      <th>residual sugar</th>\n",
       "      <th>chlorides</th>\n",
       "      <th>free sulfur dioxide</th>\n",
       "      <th>total sulfur dioxide</th>\n",
       "      <th>density</th>\n",
       "      <th>pH</th>\n",
       "      <th>sulphates</th>\n",
       "      <th>alcohol</th>\n",
       "      <th>quality</th>\n",
       "    </tr>\n",
       "  </thead>\n",
       "  <tbody>\n",
       "    <tr>\n",
       "      <th>0</th>\n",
       "      <td>7.4</td>\n",
       "      <td>0.70</td>\n",
       "      <td>0.00</td>\n",
       "      <td>1.9</td>\n",
       "      <td>0.076</td>\n",
       "      <td>11.0</td>\n",
       "      <td>34.0</td>\n",
       "      <td>0.9978</td>\n",
       "      <td>3.51</td>\n",
       "      <td>0.56</td>\n",
       "      <td>9.4</td>\n",
       "      <td>5</td>\n",
       "    </tr>\n",
       "    <tr>\n",
       "      <th>1</th>\n",
       "      <td>7.8</td>\n",
       "      <td>0.88</td>\n",
       "      <td>0.00</td>\n",
       "      <td>2.6</td>\n",
       "      <td>0.098</td>\n",
       "      <td>25.0</td>\n",
       "      <td>67.0</td>\n",
       "      <td>0.9968</td>\n",
       "      <td>3.20</td>\n",
       "      <td>0.68</td>\n",
       "      <td>9.8</td>\n",
       "      <td>5</td>\n",
       "    </tr>\n",
       "    <tr>\n",
       "      <th>2</th>\n",
       "      <td>7.8</td>\n",
       "      <td>0.76</td>\n",
       "      <td>0.04</td>\n",
       "      <td>2.3</td>\n",
       "      <td>0.092</td>\n",
       "      <td>15.0</td>\n",
       "      <td>54.0</td>\n",
       "      <td>0.9970</td>\n",
       "      <td>3.26</td>\n",
       "      <td>0.65</td>\n",
       "      <td>9.8</td>\n",
       "      <td>5</td>\n",
       "    </tr>\n",
       "    <tr>\n",
       "      <th>3</th>\n",
       "      <td>11.2</td>\n",
       "      <td>0.28</td>\n",
       "      <td>0.56</td>\n",
       "      <td>1.9</td>\n",
       "      <td>0.075</td>\n",
       "      <td>17.0</td>\n",
       "      <td>60.0</td>\n",
       "      <td>0.9980</td>\n",
       "      <td>3.16</td>\n",
       "      <td>0.58</td>\n",
       "      <td>9.8</td>\n",
       "      <td>6</td>\n",
       "    </tr>\n",
       "    <tr>\n",
       "      <th>4</th>\n",
       "      <td>7.4</td>\n",
       "      <td>0.70</td>\n",
       "      <td>0.00</td>\n",
       "      <td>1.9</td>\n",
       "      <td>0.076</td>\n",
       "      <td>11.0</td>\n",
       "      <td>34.0</td>\n",
       "      <td>0.9978</td>\n",
       "      <td>3.51</td>\n",
       "      <td>0.56</td>\n",
       "      <td>9.4</td>\n",
       "      <td>5</td>\n",
       "    </tr>\n",
       "  </tbody>\n",
       "</table>\n",
       "</div>"
      ],
      "text/plain": [
       "   fixed acidity  volatile acidity  citric acid  residual sugar  chlorides  \\\n",
       "0            7.4              0.70         0.00             1.9      0.076   \n",
       "1            7.8              0.88         0.00             2.6      0.098   \n",
       "2            7.8              0.76         0.04             2.3      0.092   \n",
       "3           11.2              0.28         0.56             1.9      0.075   \n",
       "4            7.4              0.70         0.00             1.9      0.076   \n",
       "\n",
       "   free sulfur dioxide  total sulfur dioxide  density    pH  sulphates  \\\n",
       "0                 11.0                  34.0   0.9978  3.51       0.56   \n",
       "1                 25.0                  67.0   0.9968  3.20       0.68   \n",
       "2                 15.0                  54.0   0.9970  3.26       0.65   \n",
       "3                 17.0                  60.0   0.9980  3.16       0.58   \n",
       "4                 11.0                  34.0   0.9978  3.51       0.56   \n",
       "\n",
       "   alcohol  quality  \n",
       "0      9.4        5  \n",
       "1      9.8        5  \n",
       "2      9.8        5  \n",
       "3      9.8        6  \n",
       "4      9.4        5  "
      ]
     },
     "execution_count": 2,
     "metadata": {},
     "output_type": "execute_result"
    }
   ],
   "source": [
    "data = pd.read_csv('winequality_red.csv', sep=',')\n",
    "data.head()"
   ]
  },
  {
   "cell_type": "code",
   "execution_count": 3,
   "metadata": {},
   "outputs": [
    {
     "data": {
      "text/plain": [
       "(1599, 12)"
      ]
     },
     "execution_count": 3,
     "metadata": {},
     "output_type": "execute_result"
    }
   ],
   "source": [
    "data.shape "
   ]
  },
  {
   "cell_type": "code",
   "execution_count": 4,
   "metadata": {},
   "outputs": [
    {
     "data": {
      "text/plain": [
       "fixed acidity           0\n",
       "volatile acidity        0\n",
       "citric acid             0\n",
       "residual sugar          0\n",
       "chlorides               0\n",
       "free sulfur dioxide     0\n",
       "total sulfur dioxide    0\n",
       "density                 0\n",
       "pH                      0\n",
       "sulphates               0\n",
       "alcohol                 0\n",
       "quality                 0\n",
       "dtype: int64"
      ]
     },
     "execution_count": 4,
     "metadata": {},
     "output_type": "execute_result"
    }
   ],
   "source": [
    "data.isnull().sum() "
   ]
  },
  {
   "cell_type": "code",
   "execution_count": 5,
   "metadata": {},
   "outputs": [
    {
     "data": {
      "text/plain": [
       "fixed acidity           float64\n",
       "volatile acidity        float64\n",
       "citric acid             float64\n",
       "residual sugar          float64\n",
       "chlorides               float64\n",
       "free sulfur dioxide     float64\n",
       "total sulfur dioxide    float64\n",
       "density                 float64\n",
       "pH                      float64\n",
       "sulphates               float64\n",
       "alcohol                 float64\n",
       "quality                   int64\n",
       "dtype: object"
      ]
     },
     "execution_count": 5,
     "metadata": {},
     "output_type": "execute_result"
    }
   ],
   "source": [
    "data.dtypes "
   ]
  },
  {
   "cell_type": "markdown",
   "metadata": {},
   "source": [
    "### 2. Удаление и заполнение пропусков и кодирование категориальных признаков."
   ]
  },
  {
   "cell_type": "code",
   "execution_count": null,
   "metadata": {},
   "outputs": [],
   "source": [
    "не требуется"
   ]
  },
  {
   "cell_type": "code",
   "execution_count": null,
   "metadata": {},
   "outputs": [],
   "source": []
  },
  {
   "cell_type": "code",
   "execution_count": 6,
   "metadata": {},
   "outputs": [],
   "source": [
    "columns = [\"fixed acidity\",\"volatile acidity\",\"citric acid\",\"residual sugar\",\"chlorides\",\"free sulfur dioxide\",\"total sulfur dioxide\",\"density\",\"pH\",\"sulphates\",\"alcohol\"]\n"
   ]
  },
  {
   "cell_type": "code",
   "execution_count": 7,
   "metadata": {},
   "outputs": [],
   "source": [
    "x_array = data[columns].values\n",
    "y_array = data['quality'].values "
   ]
  },
  {
   "cell_type": "markdown",
   "metadata": {},
   "source": [
    "### 3. Разделение с использованием метода train_test_split  выборки на обучающую и тестовую.\n"
   ]
  },
  {
   "cell_type": "code",
   "execution_count": 8,
   "metadata": {},
   "outputs": [
    {
     "data": {
      "text/plain": [
       "((1183, 11), (416, 11), (1183,), (416,))"
      ]
     },
     "execution_count": 8,
     "metadata": {},
     "output_type": "execute_result"
    }
   ],
   "source": [
    "X_train, X_test, y_train, y_test = train_test_split(x_array, y_array,\n",
    "test_size=0.26, random_state=1)\n",
    "X_train.shape, X_test.shape, y_train.shape, y_test.shape"
   ]
  },
  {
   "cell_type": "markdown",
   "metadata": {},
   "source": [
    "### 4. Обучение двух ансамблевых моделей. Оценка качества моделей с помощью одной из подходящих для задачи метрик. Сравнение качества полученных моделей.\n",
    "#### 4.1. Стекинг "
   ]
  },
  {
   "cell_type": "code",
   "execution_count": 9,
   "metadata": {},
   "outputs": [],
   "source": [
    "# Качество отдельных моделей\n",
    "def val_mae(model):\n",
    "    model.fit(X_train, y_train)\n",
    "    y_pred = model.predict(X_test)\n",
    "    result = mean_absolute_error(y_test, y_pred)\n",
    "    print(model)\n",
    "    print('MAE={}'.format(result))"
   ]
  },
  {
   "cell_type": "code",
   "execution_count": 10,
   "metadata": {},
   "outputs": [
    {
     "name": "stdout",
     "output_type": "stream",
     "text": [
      "LinearRegression(copy_X=True, fit_intercept=True, n_jobs=None, normalize=False)\n",
      "MAE=0.49101002617400435\n",
      "==========================\n",
      "\n",
      "DecisionTreeRegressor(ccp_alpha=0.0, criterion='mse', max_depth=None,\n",
      "                      max_features=None, max_leaf_nodes=None,\n",
      "                      min_impurity_decrease=0.0, min_impurity_split=None,\n",
      "                      min_samples_leaf=1, min_samples_split=2,\n",
      "                      min_weight_fraction_leaf=0.0, presort='deprecated',\n",
      "                      random_state=None, splitter='best')\n",
      "MAE=0.4375\n",
      "==========================\n",
      "\n",
      "RandomForestRegressor(bootstrap=True, ccp_alpha=0.0, criterion='mse',\n",
      "                      max_depth=None, max_features='auto', max_leaf_nodes=None,\n",
      "                      max_samples=None, min_impurity_decrease=0.0,\n",
      "                      min_impurity_split=None, min_samples_leaf=1,\n",
      "                      min_samples_split=2, min_weight_fraction_leaf=0.0,\n",
      "                      n_estimators=50, n_jobs=None, oob_score=False,\n",
      "                      random_state=None, verbose=0, warm_start=False)\n",
      "MAE=0.41937499999999994\n",
      "==========================\n",
      "\n"
     ]
    }
   ],
   "source": [
    "# Точность на отдельных моделях\n",
    "for model in [\n",
    "    LinearRegression(),\n",
    "    DecisionTreeRegressor(),\n",
    "    RandomForestRegressor(n_estimators=50)\n",
    "]:\n",
    "    val_mae(model)\n",
    "    print('==========================')"
   ]
  },
  {
   "cell_type": "code",
   "execution_count": 11,
   "metadata": {},
   "outputs": [],
   "source": [
    "# набор данных\n",
    "dataset = Dataset(X_train, y_train, X_test)\n",
    "\n",
    "# модели первого уровня\n",
    "model_tree = Regressor(dataset=dataset, estimator=DecisionTreeRegressor, name='tree')\n",
    "model_lr = Regressor(dataset=dataset, estimator=LinearRegression, parameters={'normalize': True},name='lr')\n",
    "model_rf = Regressor(dataset=dataset, estimator=RandomForestRegressor, parameters={'n_estimators': 50},name='rf')\n"
   ]
  },
  {
   "cell_type": "code",
   "execution_count": 12,
   "metadata": {},
   "outputs": [
    {
     "name": "stdout",
     "output_type": "stream",
     "text": [
      "Metric: mean_absolute_error\n",
      "Folds accuracy: [0.522252793480984, 0.5204325381349485, 0.5636614213669765, 0.46232452280050346, 0.5095639678321267, 0.47341851907557003, 0.47793217695331974, 0.4302567324465604, 0.44071610383028553, 0.490593330852405]\n",
      "Mean accuracy: 0.48911521067736796\n",
      "Standard Deviation: 0.03866824247419317\n",
      "Variance: 0.0014952329760429968\n"
     ]
    }
   ],
   "source": [
    "# Эксперимент 1.1\n",
    "# Первый уровень - две модели: дерево и линейная регрессия\n",
    "# Второй уровень: линейная регрессия\n",
    "\n",
    "pipeline = ModelsPipeline(model_tree, model_lr)\n",
    "stack_ds = pipeline.stack(k=10, seed=1)\n",
    "# модель второго уровня\n",
    "stacker = Regressor(dataset=stack_ds, estimator=LinearRegression)\n",
    "results = stacker.validate(k=10,scorer=mean_absolute_error)\n"
   ]
  },
  {
   "cell_type": "code",
   "execution_count": 13,
   "metadata": {},
   "outputs": [
    {
     "name": "stdout",
     "output_type": "stream",
     "text": [
      "Metric: mean_absolute_error\n",
      "Folds accuracy: [0.5707563025210081, 0.6463025210084034, 0.5816806722689075, 0.4994915254237287, 0.5965254237288136, 0.5164406779661016, 0.5109322033898305, 0.4971186440677967, 0.5591525423728813, 0.5658474576271187]\n",
      "Mean accuracy: 0.554424797037459\n",
      "Standard Deviation: 0.045839357531465785\n",
      "Variance: 0.002101246698897549\n"
     ]
    }
   ],
   "source": [
    "# Эксперимент 1.2\n",
    "# Первый уровень - две модели: дерево и линейная регрессия\n",
    "# Второй уровень: случайный лес\n",
    "\n",
    "stacker = Regressor(dataset=stack_ds, estimator=RandomForestRegressor)\n",
    "results = stacker.validate(k=10,scorer=mean_absolute_error)\n"
   ]
  },
  {
   "cell_type": "code",
   "execution_count": 14,
   "metadata": {},
   "outputs": [
    {
     "name": "stdout",
     "output_type": "stream",
     "text": [
      "Metric: mean_absolute_error\n",
      "Folds accuracy: [0.6302521008403361, 0.6722689075630253, 0.6302521008403361, 0.5169491525423728, 0.6016949152542372, 0.5508474576271186, 0.5169491525423728, 0.559322033898305, 0.6101694915254238, 0.5847457627118644]\n",
      "Mean accuracy: 0.5873451075345393\n",
      "Standard Deviation: 0.048637691252086765\n",
      "Variance: 0.0023656250103333176\n"
     ]
    }
   ],
   "source": [
    "# Эксперимент 1.3\n",
    "# Первый уровень - две модели: дерево и линейная регрессия\n",
    "# Второй уровень: дерево\n",
    "\n",
    "stacker = Regressor(dataset=stack_ds, estimator=DecisionTreeRegressor)\n",
    "results = stacker.validate(k=10,scorer=mean_absolute_error)"
   ]
  },
  {
   "cell_type": "code",
   "execution_count": 15,
   "metadata": {},
   "outputs": [
    {
     "name": "stdout",
     "output_type": "stream",
     "text": [
      "Metric: mean_absolute_error\n",
      "Folds accuracy: [0.45865438203965947, 0.4445274965685606, 0.499039095917168, 0.3923561183775206, 0.4185459953670375, 0.4210127246135441, 0.4157302194574986, 0.39534098846073323, 0.42439330689507, 0.4330883699772755]\n",
      "Mean accuracy: 0.43026886976740675\n",
      "Standard Deviation: 0.029787026607361666\n",
      "Variance: 0.0008872669541076718\n"
     ]
    }
   ],
   "source": [
    "# Эксперимент 2.1\n",
    "# Первый уровень - две модели: дерево и случайный лес\n",
    "# Второй уровень: линейная регрессия \n",
    "pipeline = ModelsPipeline(model_tree, model_rf)\n",
    "stack_ds = pipeline.stack(k=10, seed=1)\n",
    "# модель второго уровня\n",
    "stacker = Regressor(dataset=stack_ds, estimator=LinearRegression)\n",
    "results = stacker.validate(k=10,scorer=mean_absolute_error)"
   ]
  },
  {
   "cell_type": "code",
   "execution_count": 16,
   "metadata": {},
   "outputs": [
    {
     "name": "stdout",
     "output_type": "stream",
     "text": [
      "Metric: mean_absolute_error\n",
      "Folds accuracy: [0.45074654652818813, 0.46753311845467915, 0.5358034661009041, 0.4051528809291358, 0.43157383637781804, 0.43084850724889817, 0.4664541324764089, 0.4440822758524653, 0.429267451416664, 0.43466419526295225]\n",
      "Mean accuracy: 0.4496126410648114\n",
      "Standard Deviation: 0.03370022638152573\n",
      "Variance: 0.0011357052581660828\n"
     ]
    }
   ],
   "source": [
    "\n",
    "# Эксперимент 2.2\n",
    "# Первый уровень - две модели: дерево и случайный лес\n",
    "# Второй уровень: случайный лес\n",
    "\n",
    "stacker = Regressor(dataset=stack_ds, estimator=RandomForestRegressor)\n",
    "results = stacker.validate(k=10,scorer=mean_absolute_error)"
   ]
  },
  {
   "cell_type": "code",
   "execution_count": 17,
   "metadata": {},
   "outputs": [
    {
     "name": "stdout",
     "output_type": "stream",
     "text": [
      "Metric: mean_absolute_error\n",
      "Folds accuracy: [0.46167407970787533, 0.46985910827846994, 0.5337409555896951, 0.3825162466117747, 0.4518668829348632, 0.43931395678653906, 0.4561837095735401, 0.44375448617197055, 0.4135503210764269, 0.45238935126023855]\n",
      "Mean accuracy: 0.45048490979913935\n",
      "Standard Deviation: 0.03691088068516074\n",
      "Variance: 0.001362413112954172\n"
     ]
    }
   ],
   "source": [
    "# Эксперимент 2.3\n",
    "# Первый уровень - две модели: дерево и случайный лес\n",
    "# Второй уровень: дерево\n",
    "\n",
    "stacker = Regressor(dataset=stack_ds, estimator=DecisionTreeRegressor)\n",
    "results = stacker.validate(k=10,scorer=mean_absolute_error)"
   ]
  },
  {
   "cell_type": "code",
   "execution_count": 18,
   "metadata": {},
   "outputs": [
    {
     "name": "stdout",
     "output_type": "stream",
     "text": [
      "Metric: mean_absolute_error\n",
      "Folds accuracy: [0.4604987665780731, 0.45081151387749263, 0.5003513472623877, 0.39664289388098994, 0.4211657193184927, 0.4222075852621292, 0.42170202734101114, 0.39534310172861736, 0.42218118313953923, 0.4376346682371013]\n",
      "Mean accuracy: 0.43285388066258346\n",
      "Standard Deviation: 0.02978590499111804\n",
      "Variance: 0.0008872001361399106\n"
     ]
    }
   ],
   "source": [
    "# Эксперимент 3.1\n",
    "# Первый уровень - две модели: линейная регрессия и случайный лес\n",
    "# Второй уровень: линейная регрессия\n",
    "pipeline = ModelsPipeline(model_lr, model_rf)\n",
    "stack_ds = pipeline.stack(k=10, seed=1)\n",
    "# модель второго уровня\n",
    "stacker = Regressor(dataset=stack_ds, estimator=LinearRegression)\n",
    "results = stacker.validate(k=10,scorer=mean_absolute_error)"
   ]
  },
  {
   "cell_type": "code",
   "execution_count": 19,
   "metadata": {},
   "outputs": [
    {
     "name": "stdout",
     "output_type": "stream",
     "text": [
      "Metric: mean_absolute_error\n",
      "Folds accuracy: [0.4476470588235295, 0.4726050420168067, 0.500924369747899, 0.4836440677966102, 0.4800847457627118, 0.42601694915254246, 0.43245762711864405, 0.46915254237288123, 0.4519491525423729, 0.4773728813559322]\n",
      "Mean accuracy: 0.464185443668993\n",
      "Standard Deviation: 0.022665784960144413\n",
      "Variance: 0.0005137378078595087\n"
     ]
    }
   ],
   "source": [
    "# Эксперимент 3.2\n",
    "# Первый уровень - две модели:  линейная регрессия и случайный лес\n",
    "# Второй уровень: случайный лес\n",
    "\n",
    "stacker = Regressor(dataset=stack_ds, estimator=RandomForestRegressor)\n",
    "results = stacker.validate(k=10,scorer=mean_absolute_error)"
   ]
  },
  {
   "cell_type": "code",
   "execution_count": 20,
   "metadata": {},
   "outputs": [
    {
     "name": "stdout",
     "output_type": "stream",
     "text": [
      "Metric: mean_absolute_error\n",
      "Folds accuracy: [0.5042016806722689, 0.5294117647058824, 0.5546218487394958, 0.5169491525423728, 0.559322033898305, 0.4576271186440678, 0.4830508474576271, 0.6186440677966102, 0.5254237288135594, 0.559322033898305]\n",
      "Mean accuracy: 0.5308574277168494\n",
      "Standard Deviation: 0.04298306732922732\n",
      "Variance: 0.0018475440770288891\n"
     ]
    }
   ],
   "source": [
    "# Эксперимент 3.3\n",
    "# Первый уровень - две модели: линейная регрессия и случайный лес\n",
    "# Второй уровень: дерево\n",
    "\n",
    "stacker = Regressor(dataset=stack_ds, estimator=DecisionTreeRegressor)\n",
    "results = stacker.validate(k=10,scorer=mean_absolute_error)"
   ]
  },
  {
   "cell_type": "code",
   "execution_count": 21,
   "metadata": {},
   "outputs": [
    {
     "name": "stdout",
     "output_type": "stream",
     "text": [
      "Metric: mean_absolute_error\n",
      "Folds accuracy: [0.4608321413503237, 0.45063899033624283, 0.5007853192710473, 0.396757702659696, 0.42178476048478747, 0.42220932678786066, 0.4217004604267666, 0.39533382715927784, 0.4221540327193157, 0.43850134434102656]\n",
      "Mean accuracy: 0.4330697905536344\n",
      "Standard Deviation: 0.029884121507574437\n",
      "Variance: 0.0008930607182794731\n"
     ]
    }
   ],
   "source": [
    "# Эксперимент 4\n",
    "# Первый уровень - три модели: дерево, линейная регрессия и случайный лес\n",
    "# Второй уровень: линейная регрессия\n",
    "pipeline = ModelsPipeline(model_tree, model_lr, model_rf)\n",
    "stack_ds3 = pipeline.stack(k=10, seed=1)\n",
    "# модель второго уровня\n",
    "stacker = Regressor(dataset=stack_ds3, estimator=LinearRegression)\n",
    "results = stacker.validate(k=10,scorer=mean_absolute_error)"
   ]
  },
  {
   "cell_type": "code",
   "execution_count": 22,
   "metadata": {},
   "outputs": [
    {
     "name": "stdout",
     "output_type": "stream",
     "text": [
      "Metric: mean_absolute_error\n",
      "Folds accuracy: [0.4388235294117647, 0.49529411764705883, 0.47840336134453776, 0.4473728813559321, 0.44966101694915245, 0.40203389830508474, 0.43254237288135583, 0.457457627118644, 0.4461016949152542, 0.4489830508474576]\n",
      "Mean accuracy: 0.4496673550776243\n",
      "Standard Deviation: 0.023804399774227755\n",
      "Variance: 0.0005666494486112544\n"
     ]
    }
   ],
   "source": [
    "# Эксперимент 5\n",
    "# Первый уровень - три модели: дерево, линейная регрессия и случайный лес\n",
    "# Второй уровень: дерево\n",
    "stacker = Regressor(dataset=stack_ds3, estimator=RandomForestRegressor)\n",
    "results = stacker.validate(k=10,scorer=mean_absolute_error)"
   ]
  },
  {
   "cell_type": "code",
   "execution_count": 23,
   "metadata": {},
   "outputs": [
    {
     "name": "stdout",
     "output_type": "stream",
     "text": [
      "Metric: mean_absolute_error\n",
      "Folds accuracy: [0.47058823529411764, 0.5882352941176471, 0.5966386554621849, 0.559322033898305, 0.5084745762711864, 0.4491525423728814, 0.4830508474576271, 0.5677966101694916, 0.5508474576271186, 0.5423728813559322]\n",
      "Mean accuracy: 0.5316479134026492\n",
      "Standard Deviation: 0.048388645127900115\n",
      "Variance: 0.0023414609773138514\n"
     ]
    }
   ],
   "source": [
    "# Эксперимент 6\n",
    "# Первый уровень - три модели: дерево, линейная регрессия и случайный лес\n",
    "# Второй уровень: случайный лес\n",
    "stacker = Regressor(dataset=stack_ds3, estimator=DecisionTreeRegressor)\n",
    "results = stacker.validate(k=10,scorer=mean_absolute_error)"
   ]
  },
  {
   "cell_type": "code",
   "execution_count": 38,
   "metadata": {},
   "outputs": [],
   "source": [
    "# Результаты\n",
    "array_labels = ['LR','TREE', 'RF', \n",
    "                'TREE+LR=>LR',  'TREE+LR=>RF','TREE+LR=>TREE',\n",
    "                 'TREE+RF=>LR', 'TREE+RF=>RF','TREE+RF=>TREE',\n",
    "                'LR+RF=>LR', 'LR+RF=>RF','LR+RF=>TREE',\n",
    "               \n",
    "                'TREE+LR+RF=>LR', 'TREE+LR+RF=>RF', 'TREE+LR+RF=>TREE']\n",
    "array_mae = [0.4910, 0.4375, 0.4193,0.4891, 0.5544, 0.5873, 0.4302, 0.4496, 0.4504, 0.4328, 0.4641, 0.5308, 0.4330, 0.4496, 0.5316\n",
    "            ]"
   ]
  },
  {
   "cell_type": "code",
   "execution_count": 39,
   "metadata": {},
   "outputs": [
    {
     "data": {
      "text/plain": [
       "0.433"
      ]
     },
     "execution_count": 39,
     "metadata": {},
     "output_type": "execute_result"
    }
   ],
   "source": [
    "min(array_mae)"
   ]
  },
  {
   "cell_type": "code",
   "execution_count": 31,
   "metadata": {},
   "outputs": [],
   "source": [
    "def vis_models_quality(array_metric, array_labels, str_header, figsize=(5, 5)):\n",
    "    fig, ax1 = plt.subplots(figsize=figsize)\n",
    "    pos = np.arange(len(array_metric))\n",
    "    rects = ax1.barh(pos, array_metric,\n",
    "                     align='center',\n",
    "                     height=0.5, \n",
    "                     tick_label=array_labels)\n",
    "    ax1.set_title(str_header)\n",
    "    for a,b in zip(pos, array_metric):\n",
    "        plt.text(0.2, a-0.1, str(round(b,3)), color='white')\n",
    "    plt.show()"
   ]
  },
  {
   "cell_type": "code",
   "execution_count": 32,
   "metadata": {},
   "outputs": [
    {
     "data": {
      "image/png": "[encoded data removed]",
      "text/plain": [
       "<Figure size 360x360 with 1 Axes>"
      ]
     },
     "metadata": {},
     "output_type": "display_data"
    }
   ],
   "source": [
    "# Визуализация результатов\n",
    "vis_models_quality(array_mae, array_labels, 'MAE для моделей стекинга')\n"
   ]
  },
  {
   "cell_type": "markdown",
   "metadata": {},
   "source": [
    "Выведем лучшие модели"
   ]
  },
  {
   "cell_type": "code",
   "execution_count": 40,
   "metadata": {},
   "outputs": [
    {
     "data": {
      "image/png": "[encoded data removed]",
      "text/plain": [
       "<Figure size 360x360 with 1 Axes>"
      ]
     },
     "metadata": {},
     "output_type": "display_data"
    }
   ],
   "source": [
    "# Результаты\n",
    "array_labels = [ 'RF', \n",
    "                'LR+RF=>LR', \n",
    "                'TREE+LR+RF=>LR', \n",
    "                'TREE+LR+RF=>RF' ]\n",
    "array_mae = [ 0.4193,\n",
    "            0.4328, \n",
    "            0.433, \n",
    "             0.4302]\n",
    "\n",
    "# Визуализация результатов\n",
    "vis_models_quality(array_mae, array_labels, 'MAE для моделей стекинга')\n"
   ]
  },
  {
   "cell_type": "markdown",
   "metadata": {},
   "source": [
    "Видим, что лучшие результаты стекинга похожи на самую сильную модель 1 уровня - случайный лес.  Лучшие модели получились, если на втором уровне в большинстве случаев использовалась линейная регрессия, а на 1 применялся случайный лес."
   ]
  },
  {
   "cell_type": "markdown",
   "metadata": {},
   "source": [
    "#### 4.2. Метод группового учета аргументов"
   ]
  },
  {
   "cell_type": "code",
   "execution_count": 41,
   "metadata": {},
   "outputs": [],
   "source": [
    "# !pip install gmdhpy\n",
    "from gmdhpy import gmdh"
   ]
  },
  {
   "cell_type": "code",
   "execution_count": 42,
   "metadata": {},
   "outputs": [
    {
     "name": "stdout",
     "output_type": "stream",
     "text": [
      "train layer0 in 0.21 sec\n",
      "train layer1 in 0.88 sec\n",
      "train layer2 in 0.89 sec\n",
      "train layer3 in 0.88 sec\n",
      "train layer4 in 0.90 sec\n",
      "train layer5 in 0.90 sec\n",
      "train layer6 in 0.89 sec\n",
      "train layer7 in 0.88 sec\n",
      "train layer8 in 0.88 sec\n",
      "MAE=0.49275142270917777\n"
     ]
    }
   ],
   "source": [
    "model = gmdh.MultilayerGMDH()\n",
    "model.fit(X_train, y_train)\n",
    "y_pred = model.predict(X_test)\n",
    "result = mean_absolute_error(y_test, y_pred)\n",
    "print('MAE={}'.format(result))"
   ]
  },
  {
   "cell_type": "code",
   "execution_count": 43,
   "metadata": {},
   "outputs": [
    {
     "name": "stdout",
     "output_type": "stream",
     "text": [
      "train layer0 in 1.10 sec\n",
      "train layer1 in 4.62 sec\n",
      "train layer2 in 4.72 sec\n",
      "train layer3 in 4.60 sec\n",
      "train layer4 in 4.55 sec\n",
      "train layer5 in 4.54 sec\n",
      "train layer6 in 4.50 sec\n",
      "train layer7 in 4.56 sec\n",
      "MAE=0.48557106923504756\n"
     ]
    }
   ],
   "source": [
    "model = gmdh.MultilayerGMDH(ref_functions=('linear_cov', 'quadratic', 'cubic', 'linear'))\n",
    "model.fit(X_train, y_train)\n",
    "y_pred = model.predict(X_test)\n",
    "result = mean_absolute_error(y_test, y_pred)\n",
    "print('MAE={}'.format(result))"
   ]
  },
  {
   "cell_type": "markdown",
   "metadata": {},
   "source": [
    "### 5. Подбор значений одного гиперпараметра для моделей. \n",
    "#### 5.1. Стекинг "
   ]
  },
  {
   "cell_type": "code",
   "execution_count": 44,
   "metadata": {},
   "outputs": [
    {
     "data": {
      "text/plain": [
       "{'ccp_alpha': 0.0,\n",
       " 'criterion': 'mse',\n",
       " 'max_depth': None,\n",
       " 'max_features': None,\n",
       " 'max_leaf_nodes': None,\n",
       " 'min_impurity_decrease': 0.0,\n",
       " 'min_impurity_split': None,\n",
       " 'min_samples_leaf': 1,\n",
       " 'min_samples_split': 2,\n",
       " 'min_weight_fraction_leaf': 0.0,\n",
       " 'presort': 'deprecated',\n",
       " 'random_state': None,\n",
       " 'splitter': 'best'}"
      ]
     },
     "execution_count": 44,
     "metadata": {},
     "output_type": "execute_result"
    }
   ],
   "source": [
    "DecisionTreeRegressor().get_params()"
   ]
  },
  {
   "cell_type": "code",
   "execution_count": 45,
   "metadata": {},
   "outputs": [],
   "source": [
    "params = {\n",
    "'min_impurity_split': [ 0, 0.5,1,1.5,2, 3]\n",
    "}"
   ]
  },
  {
   "cell_type": "code",
   "execution_count": 46,
   "metadata": {},
   "outputs": [
    {
     "name": "stdout",
     "output_type": "stream",
     "text": [
      "CPU times: user 146 ms, sys: 68.5 ms, total: 214 ms\n",
      "Wall time: 1.25 s\n"
     ]
    },
    {
     "name": "stderr",
     "output_type": "stream",
     "text": [
      "/home/denis/ml/env/lib/python3.6/site-packages/sklearn/tree/_classes.py:301: FutureWarning: The min_impurity_split parameter is deprecated. Its default value will change from 1e-7 to 0 in version 0.23, and it will be removed in 0.25. Use the min_impurity_decrease parameter instead.\n",
      "  FutureWarning)\n"
     ]
    },
    {
     "data": {
      "text/plain": [
       "dict_keys(['ccp_alpha', 'criterion', 'max_depth', 'max_features', 'max_leaf_nodes', 'min_impurity_decrease', 'min_impurity_split', 'min_samples_leaf', 'min_samples_split', 'min_weight_fraction_leaf', 'presort', 'random_state', 'splitter'])"
      ]
     },
     "execution_count": 46,
     "metadata": {},
     "output_type": "execute_result"
    }
   ],
   "source": [
    "%%time\n",
    "grid_1 = GridSearchCV(estimator=DecisionTreeRegressor(),\n",
    "                    param_grid=params, scoring='neg_mean_absolute_error', cv=3, n_jobs=-1)\n",
    "grid_1.fit(data, y_array)\n",
    "grid_1.estimator.get_params().keys()\n"
   ]
  },
  {
   "cell_type": "code",
   "execution_count": 47,
   "metadata": {},
   "outputs": [
    {
     "data": {
      "text/plain": [
       "{'min_impurity_split': 0}"
      ]
     },
     "execution_count": 47,
     "metadata": {},
     "output_type": "execute_result"
    }
   ],
   "source": [
    "grid_1.best_params_"
   ]
  },
  {
   "cell_type": "code",
   "execution_count": 48,
   "metadata": {},
   "outputs": [
    {
     "data": {
      "image/png": "[encoded data removed]",
      "text/plain": [
       "<Figure size 432x288 with 1 Axes>"
      ]
     },
     "metadata": {},
     "output_type": "display_data"
    }
   ],
   "source": [
    "plt.plot(params['min_impurity_split'], grid_1.cv_results_[\"mean_test_score\"]);"
   ]
  },
  {
   "cell_type": "markdown",
   "metadata": {},
   "source": [
    "#### 5.2 Метод  группового учета аргументов"
   ]
  },
  {
   "cell_type": "code",
   "execution_count": 49,
   "metadata": {},
   "outputs": [
    {
     "name": "stdout",
     "output_type": "stream",
     "text": [
      "train layer0 in 0.68 sec\n",
      "train layer1 in 2.70 sec\n",
      "train layer2 in 2.61 sec\n",
      "train layer3 in 2.60 sec\n",
      "train layer4 in 2.56 sec\n",
      "train layer5 in 2.58 sec\n",
      "train layer6 in 2.58 sec\n",
      "train layer7 in 2.57 sec\n",
      "MAE=0.48557106923504756\n"
     ]
    }
   ],
   "source": [
    "model = gmdh.MultilayerGMDH(ref_functions=('linear_cov', 'quadratic', \n",
    "                                               'cubic', 'linear'),\n",
    "                               n_jobs=2\n",
    "                               )\n",
    "model.fit(X_train, y_train)\n",
    "y_pred = model.predict(X_test)\n",
    "result = mean_absolute_error(y_test, y_pred)\n",
    "print('MAE={}'.format(result))"
   ]
  },
  {
   "cell_type": "code",
   "execution_count": 50,
   "metadata": {},
   "outputs": [
    {
     "name": "stdout",
     "output_type": "stream",
     "text": [
      "train layer0 in 1.14 sec\n",
      "train layer1 in 4.69 sec\n",
      "train layer2 in 4.65 sec\n",
      "train layer3 in 4.61 sec\n",
      "train layer4 in 4.59 sec\n",
      "train layer5 in 4.57 sec\n",
      "train layer6 in 4.09 sec\n",
      "train layer7 in 4.10 sec\n",
      "MAE=0.48557106923504756\n"
     ]
    }
   ],
   "source": [
    "model = gmdh.MultilayerGMDH(ref_functions=('linear_cov', 'quadratic', \n",
    "                                               'cubic', 'linear'),\n",
    "                               criterion_minimum_width=5\n",
    "                               )\n",
    "model.fit(X_train, y_train)\n",
    "y_pred = model.predict(X_test)\n",
    "result = mean_absolute_error(y_test, y_pred)\n",
    "print('MAE={}'.format(result))"
   ]
  },
  {
   "cell_type": "code",
   "execution_count": 51,
   "metadata": {},
   "outputs": [
    {
     "name": "stdout",
     "output_type": "stream",
     "text": [
      "train layer0 in 0.21 sec\n",
      "train layer1 in 0.95 sec\n",
      "train layer2 in 0.91 sec\n",
      "train layer3 in 0.88 sec\n",
      "MAE=0.5001011616867227\n"
     ]
    }
   ],
   "source": [
    "model = gmdh.MultilayerGMDH(ref_functions=('linear_cov'),\n",
    "                           max_layer_count=4)\n",
    "model.fit(X_train, y_train)\n",
    "y_pred = model.predict(X_test)\n",
    "result = mean_absolute_error(y_test, y_pred)\n",
    "print('MAE={}'.format(result))"
   ]
  },
  {
   "cell_type": "code",
   "execution_count": 52,
   "metadata": {},
   "outputs": [
    {
     "name": "stdout",
     "output_type": "stream",
     "text": [
      "train layer0 in 0.29 sec\n",
      "train layer1 in 1.20 sec\n",
      "train layer2 in 1.23 sec\n",
      "train layer3 in 1.20 sec\n",
      "MAE=0.4983202723714023\n"
     ]
    }
   ],
   "source": [
    "model = gmdh.MultilayerGMDH(ref_functions=('quadratic'),\n",
    "                           max_layer_count=4)\n",
    "model.fit(X_train, y_train)\n",
    "y_pred = model.predict(X_test)\n",
    "result = mean_absolute_error(y_test, y_pred)\n",
    "print('MAE={}'.format(result))"
   ]
  },
  {
   "cell_type": "code",
   "execution_count": 53,
   "metadata": {},
   "outputs": [
    {
     "name": "stdout",
     "output_type": "stream",
     "text": [
      "train layer0 in 0.46 sec\n",
      "train layer1 in 1.97 sec\n",
      "train layer2 in 1.95 sec\n",
      "train layer3 in 1.94 sec\n",
      "MAE=0.4909035647486556\n"
     ]
    }
   ],
   "source": [
    "model = gmdh.MultilayerGMDH(ref_functions=('cubic'),\n",
    "                           max_layer_count=4)\n",
    "model.fit(X_train, y_train)\n",
    "y_pred = model.predict(X_test)\n",
    "result = mean_absolute_error(y_test, y_pred)\n",
    "print('MAE={}'.format(result))"
   ]
  },
  {
   "cell_type": "code",
   "execution_count": 54,
   "metadata": {},
   "outputs": [
    {
     "name": "stdout",
     "output_type": "stream",
     "text": [
      "train layer0 in 1.12 sec\n",
      "train layer1 in 4.70 sec\n",
      "train layer2 in 4.65 sec\n",
      "train layer3 in 4.62 sec\n",
      "MAE=0.48724853306639215\n"
     ]
    }
   ],
   "source": [
    "model = gmdh.MultilayerGMDH(ref_functions=('linear_cov', 'quadratic', \n",
    "                                               'cubic', 'linear'),                           \n",
    "                            max_layer_count=4)\n",
    "model.fit(X_train, y_train)\n",
    "y_pred = model.predict(X_test)\n",
    "result = mean_absolute_error(y_test, y_pred)\n",
    "print('MAE={}'.format(result))"
   ]
  },
  {
   "cell_type": "code",
   "execution_count": 55,
   "metadata": {},
   "outputs": [],
   "source": [
    "params = {\n",
    "    'ref_functions': ['linear_cov', 'quadratic', 'cubic', 'linear']\n",
    "    \n",
    "}"
   ]
  },
  {
   "cell_type": "code",
   "execution_count": 56,
   "metadata": {},
   "outputs": [
    {
     "name": "stdout",
     "output_type": "stream",
     "text": [
      "train layer0 in 0.21 sec\n",
      "train layer1 in 0.88 sec\n",
      "train layer2 in 0.93 sec\n",
      "Param value: linear_cov, MAE=0.5005100535726884\n",
      "\n",
      "train layer0 in 0.28 sec\n",
      "train layer1 in 1.19 sec\n",
      "train layer2 in 1.20 sec\n",
      "Param value: quadratic, MAE=0.4996399148742637\n",
      "\n",
      "train layer0 in 0.47 sec\n",
      "train layer1 in 1.95 sec\n",
      "train layer2 in 1.93 sec\n",
      "Param value: cubic, MAE=0.48785162393161924\n",
      "\n",
      "train layer0 in 0.17 sec\n",
      "train layer1 in 0.75 sec\n",
      "train layer2 in 0.74 sec\n",
      "Param value: linear, MAE=0.4989142429592759\n",
      "\n"
     ]
    }
   ],
   "source": [
    "for param in params['ref_functions']:\n",
    "    model = gmdh.MultilayerGMDH(ref_functions=(param),                           \n",
    "                            max_layer_count=3)\n",
    "    model.fit(X_train, y_train)\n",
    "    y_pred = model.predict(X_test)\n",
    "    result = mean_absolute_error(y_test, y_pred)\n",
    "    print('Param value: {}, MAE={}'.format(param, result))\n",
    "    print()"
   ]
  },
  {
   "cell_type": "markdown",
   "metadata": {},
   "source": [
    "cubic лучше всех снизила ошибку."
   ]
  },
  {
   "cell_type": "code",
   "execution_count": 61,
   "metadata": {},
   "outputs": [],
   "source": [
    "params = {\n",
    "    'max_layer_count': [1,2,3,4,6,8, 10],\n",
    "    \n",
    "}"
   ]
  },
  {
   "cell_type": "code",
   "execution_count": 62,
   "metadata": {},
   "outputs": [
    {
     "name": "stdout",
     "output_type": "stream",
     "text": [
      "train layer0 in 0.47 sec\n",
      "Param value: 1, MAE=0.5059479855052901\n",
      "train layer0 in 0.47 sec\n",
      "train layer1 in 1.99 sec\n",
      "Param value: 2, MAE=0.4981671446671235\n",
      "train layer0 in 0.47 sec\n",
      "train layer1 in 1.96 sec\n",
      "train layer2 in 1.99 sec\n",
      "Param value: 3, MAE=0.48785162393161924\n",
      "train layer0 in 0.48 sec\n",
      "train layer1 in 1.95 sec\n",
      "train layer2 in 1.96 sec\n",
      "train layer3 in 1.95 sec\n",
      "Param value: 4, MAE=0.4909035647486556\n",
      "train layer0 in 0.47 sec\n",
      "train layer1 in 1.96 sec\n",
      "train layer2 in 1.95 sec\n",
      "train layer3 in 1.95 sec\n",
      "train layer4 in 1.96 sec\n",
      "train layer5 in 1.96 sec\n",
      "Param value: 6, MAE=0.48579216879768594\n",
      "train layer0 in 0.46 sec\n",
      "train layer1 in 1.94 sec\n",
      "train layer2 in 1.94 sec\n",
      "train layer3 in 2.13 sec\n",
      "train layer4 in 2.10 sec\n",
      "train layer5 in 2.04 sec\n",
      "train layer6 in 2.04 sec\n",
      "Param value: 8, MAE=0.48558638121852565\n",
      "train layer0 in 0.46 sec\n",
      "train layer1 in 1.96 sec\n",
      "train layer2 in 2.03 sec\n",
      "train layer3 in 2.09 sec\n",
      "train layer4 in 2.04 sec\n",
      "train layer5 in 1.98 sec\n",
      "train layer6 in 1.97 sec\n",
      "Param value: 10, MAE=0.48558638121852565\n"
     ]
    }
   ],
   "source": [
    "for param in params['max_layer_count']:\n",
    "    model = gmdh.MultilayerGMDH(ref_functions=('cubic'),                           \n",
    "                            max_layer_count=param)\n",
    "    model.fit(X_train, y_train)\n",
    "    y_pred = model.predict(X_test)\n",
    "    result = mean_absolute_error(y_test, y_pred)\n",
    "    print('Param value: {}, MAE={}'.format(param, result))\n"
   ]
  },
  {
   "cell_type": "markdown",
   "metadata": {},
   "source": [
    "### 6. Повтор пункта 4 для найденных оптимальных значений гиперпараметров. Сравнение качества полученных моделей с качеством моделей, полученных в пункте 4"
   ]
  },
  {
   "cell_type": "code",
   "execution_count": 63,
   "metadata": {},
   "outputs": [
    {
     "name": "stdout",
     "output_type": "stream",
     "text": [
      "Metric: mean_absolute_error\n",
      "Folds accuracy: [0.4579882552127175, 0.4377693833774365, 0.48922667553576704, 0.38921760926414134, 0.4283664559536715, 0.4191313998228922, 0.41212175657224587, 0.39823953008713964, 0.42078538893042594, 0.42961054068482674]\n",
      "Mean accuracy: 0.42824569954412645\n",
      "Standard Deviation: 0.027419240042358663\n",
      "Variance: 0.0007518147245004847\n"
     ]
    },
    {
     "name": "stderr",
     "output_type": "stream",
     "text": [
      "/home/denis/ml/env/lib/python3.6/site-packages/sklearn/tree/_classes.py:301: FutureWarning: The min_impurity_split parameter is deprecated. Its default value will change from 1e-7 to 0 in version 0.23, and it will be removed in 0.25. Use the min_impurity_decrease parameter instead.\n",
      "  FutureWarning)\n",
      "/home/denis/ml/env/lib/python3.6/site-packages/sklearn/tree/_classes.py:301: FutureWarning: The min_impurity_split parameter is deprecated. Its default value will change from 1e-7 to 0 in version 0.23, and it will be removed in 0.25. Use the min_impurity_decrease parameter instead.\n",
      "  FutureWarning)\n",
      "/home/denis/ml/env/lib/python3.6/site-packages/sklearn/tree/_classes.py:301: FutureWarning: The min_impurity_split parameter is deprecated. Its default value will change from 1e-7 to 0 in version 0.23, and it will be removed in 0.25. Use the min_impurity_decrease parameter instead.\n",
      "  FutureWarning)\n",
      "/home/denis/ml/env/lib/python3.6/site-packages/sklearn/tree/_classes.py:301: FutureWarning: The min_impurity_split parameter is deprecated. Its default value will change from 1e-7 to 0 in version 0.23, and it will be removed in 0.25. Use the min_impurity_decrease parameter instead.\n",
      "  FutureWarning)\n",
      "/home/denis/ml/env/lib/python3.6/site-packages/sklearn/tree/_classes.py:301: FutureWarning: The min_impurity_split parameter is deprecated. Its default value will change from 1e-7 to 0 in version 0.23, and it will be removed in 0.25. Use the min_impurity_decrease parameter instead.\n",
      "  FutureWarning)\n",
      "/home/denis/ml/env/lib/python3.6/site-packages/sklearn/tree/_classes.py:301: FutureWarning: The min_impurity_split parameter is deprecated. Its default value will change from 1e-7 to 0 in version 0.23, and it will be removed in 0.25. Use the min_impurity_decrease parameter instead.\n",
      "  FutureWarning)\n",
      "/home/denis/ml/env/lib/python3.6/site-packages/sklearn/tree/_classes.py:301: FutureWarning: The min_impurity_split parameter is deprecated. Its default value will change from 1e-7 to 0 in version 0.23, and it will be removed in 0.25. Use the min_impurity_decrease parameter instead.\n",
      "  FutureWarning)\n",
      "/home/denis/ml/env/lib/python3.6/site-packages/sklearn/tree/_classes.py:301: FutureWarning: The min_impurity_split parameter is deprecated. Its default value will change from 1e-7 to 0 in version 0.23, and it will be removed in 0.25. Use the min_impurity_decrease parameter instead.\n",
      "  FutureWarning)\n",
      "/home/denis/ml/env/lib/python3.6/site-packages/sklearn/tree/_classes.py:301: FutureWarning: The min_impurity_split parameter is deprecated. Its default value will change from 1e-7 to 0 in version 0.23, and it will be removed in 0.25. Use the min_impurity_decrease parameter instead.\n",
      "  FutureWarning)\n",
      "/home/denis/ml/env/lib/python3.6/site-packages/sklearn/tree/_classes.py:301: FutureWarning: The min_impurity_split parameter is deprecated. Its default value will change from 1e-7 to 0 in version 0.23, and it will be removed in 0.25. Use the min_impurity_decrease parameter instead.\n",
      "  FutureWarning)\n",
      "/home/denis/ml/env/lib/python3.6/site-packages/sklearn/tree/_classes.py:301: FutureWarning: The min_impurity_split parameter is deprecated. Its default value will change from 1e-7 to 0 in version 0.23, and it will be removed in 0.25. Use the min_impurity_decrease parameter instead.\n",
      "  FutureWarning)\n"
     ]
    }
   ],
   "source": [
    "\n",
    "model_tree = Regressor(dataset=dataset, estimator=DecisionTreeRegressor, parameters={'min_impurity_split':1.5},name='tree')\n",
    "model_lr = Regressor(dataset=dataset, estimator=LinearRegression, parameters={'normalize': True},name='lr')\n",
    "model_rf = Regressor(dataset=dataset, estimator=RandomForestRegressor, parameters={'n_estimators': 50},name='rf')\n",
    "\n",
    "pipeline = ModelsPipeline(model_tree, model_rf)\n",
    "stack_ds = pipeline.stack(k=10, seed=1)\n",
    "\n",
    "stacker = Regressor(dataset=stack_ds, estimator=LinearRegression)\n",
    "results = stacker.validate(k=10,scorer=mean_absolute_error)"
   ]
  },
  {
   "cell_type": "markdown",
   "metadata": {},
   "source": [
    "Результат немного улучшился"
   ]
  },
  {
   "cell_type": "markdown",
   "metadata": {},
   "source": [
    "#### Метод группового учета аргументов"
   ]
  },
  {
   "cell_type": "code",
   "execution_count": 64,
   "metadata": {},
   "outputs": [
    {
     "name": "stdout",
     "output_type": "stream",
     "text": [
      "train layer0 in 1.13 sec\n",
      "train layer1 in 4.58 sec\n",
      "train layer2 in 4.57 sec\n",
      "train layer3 in 4.56 sec\n",
      "train layer4 in 4.53 sec\n",
      "train layer5 in 4.54 sec\n",
      "MAE=0.48498913574135594\n"
     ]
    }
   ],
   "source": [
    "model = gmdh.MultilayerGMDH(ref_functions=('linear_cov', 'quadratic', \n",
    "                                               'cubic', 'linear'),                           \n",
    "                            max_layer_count=6)\n",
    "model.fit(X_train, y_train)\n",
    "y_pred = model.predict(X_test)\n",
    "result = mean_absolute_error(y_test, y_pred)\n",
    "print('MAE={}'.format(result))"
   ]
  },
  {
   "cell_type": "markdown",
   "metadata": {},
   "source": [
    "Результат удалось немного улучшить."
   ]
  },
  {
   "cell_type": "markdown",
   "metadata": {},
   "source": [
    "### Вывод:\n",
    "- В процессе выполнения данной лабораторной работы было определено, что наилучшим образом себя показывает ансамблевая модель, где на первом уровне находятся модели случайный лес и дерево решений, а на втором- линейная регрессия. Применение линейной регрессии на первом уровне ансамблевых моделей показало себя хуже всего. Было выяснено, что модель случайный лес по точности соспоставима с лучшими ансамблевыми моделями.\n",
    "- Метод группового учета оказался хуже по точности, чем ансамблевые модели."
   ]
  },
  {
   "cell_type": "code",
   "execution_count": null,
   "metadata": {},
   "outputs": [],
   "source": []
  }
 ],
 "metadata": {
  "kernelspec": {
   "display_name": "Python 3",
   "language": "python",
   "name": "python3"
  },
  "language_info": {
   "codemirror_mode": {
    "name": "ipython",
    "version": 3
   },
   "file_extension": ".py",
   "mimetype": "text/x-python",
   "name": "python",
   "nbconvert_exporter": "python",
   "pygments_lexer": "ipython3",
   "version": "3.6.10"
  }
 },
 "nbformat": 4,
 "nbformat_minor": 4
}
